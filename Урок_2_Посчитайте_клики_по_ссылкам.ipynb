{
  "nbformat": 4,
  "nbformat_minor": 0,
  "metadata": {
    "colab": {
      "provenance": []
    },
    "kernelspec": {
      "name": "python3",
      "display_name": "Python 3"
    },
    "language_info": {
      "name": "python"
    }
  },
  "cells": [
    {
      "cell_type": "code",
      "source": [
        "!pip install python-dotenv"
      ],
      "metadata": {
        "id": "9wOIrlHGPL2E"
      },
      "execution_count": null,
      "outputs": []
    },
    {
      "cell_type": "code",
      "execution_count": null,
      "metadata": {
        "id": "fM3jGyS4rchy"
      },
      "outputs": [],
      "source": [
        "from dotenv import load_dotenv\n",
        "import os\n",
        "import requests\n",
        "import json\n",
        "from urllib.parse import urlparse"
      ]
    },
    {
      "cell_type": "code",
      "source": [
        "main_link = 'https://api-ssl.bitly.com/v4/'"
      ],
      "metadata": {
        "id": "avLBroyKu-ut"
      },
      "execution_count": 18,
      "outputs": []
    },
    {
      "cell_type": "code",
      "source": [
        "def shorten_link(token, url):\n",
        "  headers = {\n",
        "    'Authorization' : f'Bearer {token}'\n",
        "  }\n",
        "  link = f'{main_link}bitlinks'\n",
        "  body = {\n",
        "       'long_url': url\n",
        "  }\n",
        "  response = requests.post(link,json = body, headers = headers)\n",
        "  response.raise_for_status()\n",
        "  return response.json()['link']"
      ],
      "metadata": {
        "id": "-I9ETWjzvpbm"
      },
      "execution_count": 28,
      "outputs": []
    },
    {
      "cell_type": "code",
      "source": [
        "  def count_clicks(token, url):\n",
        "    headers = {\n",
        "      'Authorization' : f'Bearer {token}'\n",
        "    }\n",
        "    link = f'{main_link}bitlinks/{urlparse(url).netloc}{urlparse(url).path}/clicks/summary'\n",
        "    requests.get(link, headers = headers).raise_for_status()\n",
        "    return requests.get(link, headers = headers).json()['total_clicks']"
      ],
      "metadata": {
        "id": "GvO7Ah6R6bEG"
      },
      "execution_count": 20,
      "outputs": []
    },
    {
      "cell_type": "code",
      "source": [
        "def is_bitlink(url,token):\n",
        "  headers = {\n",
        "    'Authorization' : f'Bearer {token}'\n",
        "  }\n",
        "  link = f'{main_link}bitlinks/{urlparse(url).netloc}{urlparse(url).path}'\n",
        "  return requests.get(link, headers = headers).ok"
      ],
      "metadata": {
        "id": "TSzFCkYwHMGL"
      },
      "execution_count": 21,
      "outputs": []
    },
    {
      "cell_type": "code",
      "source": [
        "def main():\n",
        "  load_dotenv()\n",
        "  TOKEN = os.environ['TOKEN']\n",
        "  url = input('Введите ссылку: ')\n",
        "  try:\n",
        "    response = requests.get(url)\n",
        "    response.raise_for_status()\n",
        "  except requests.exceptions.HTTPError:\n",
        "    print('Недействительная ссылка')\n",
        "  else:\n",
        "    if is_bitlink(url,TOKEN):\n",
        "      try:\n",
        "        clicks_count = count_clicks(TOKEN,url)\n",
        "      except requests.exceptions.HTTPError:\n",
        "        print('Операция завершена с ошибкой')\n",
        "      else:\n",
        "        print(f'По Вашей ссылке перешли {clicks_count} раз(а)')\n",
        "    else:\n",
        "      try:\n",
        "        bitlink = shorten_link(TOKEN,url)\n",
        "      except requests.exceptions.HTTPError:\n",
        "        print('Операция завершена с ошибкой')\n",
        "      else:\n",
        "        print(f'Битлинк: {bitlink}')"
      ],
      "metadata": {
        "id": "nVJDCGrTJ-HE"
      },
      "execution_count": 25,
      "outputs": []
    },
    {
      "cell_type": "code",
      "source": [
        "if __name__ == '__main__':\n",
        "    main()"
      ],
      "metadata": {
        "id": "6zWXCWu_R2wC"
      },
      "execution_count": null,
      "outputs": []
    },
    {
      "cell_type": "code",
      "source": [],
      "metadata": {
        "id": "xhI-u31ZXEre"
      },
      "execution_count": null,
      "outputs": []
    }
  ]
}